{
  "nbformat": 4,
  "nbformat_minor": 0,
  "metadata": {
    "colab": {
      "name": "Car Price Prediction .ipynb",
      "private_outputs": true,
      "provenance": [],
      "authorship_tag": "ABX9TyN4qT13e+4Vo2Y/sZROZn1X",
      "include_colab_link": true
    },
    "kernelspec": {
      "name": "python3",
      "display_name": "Python 3"
    },
    "language_info": {
      "name": "python"
    }
  },
  "cells": [
    {
      "cell_type": "markdown",
      "metadata": {
        "id": "view-in-github",
        "colab_type": "text"
      },
      "source": [
        "<a href=\"https://colab.research.google.com/github/aruanalucena/Car-Price-Prediction-Machine-Learning/blob/main/Car_Price_Prediction_.ipynb\" target=\"_parent\"><img src=\"https://colab.research.google.com/assets/colab-badge.svg\" alt=\"Open In Colab\"/></a>"
      ]
    },
    {
      "cell_type": "markdown",
      "metadata": {
        "id": "LQhVR161v3Pl"
      },
      "source": [
        "# **Car Price Prediction with python**.\n",
        "# **Previsão de carrro com Python**.\n",
        "![Imgur](https://i.imgur.com/Vvl4QdS.jpg)![Imgur](https://i.imgur.com/GZ2mGK2.png)"
      ]
    },
    {
      "cell_type": "markdown",
      "metadata": {
        "id": "yr0Chhy4r-rE"
      },
      "source": [
        "![Imgur](https://i.imgur.com/uIJxZZj.png)"
      ]
    },
    {
      "cell_type": "code",
      "metadata": {
        "id": "wGGaYXuJo9qa"
      },
      "source": [
        "%%html\n",
        "<h1><marquee style='width: 100% ', font color= 'arrows';><b>Car Price Prediction  </b></marquee></h1>"
      ],
      "execution_count": null,
      "outputs": []
    },
    {
      "cell_type": "markdown",
      "metadata": {
        "id": "5f2TmXUZxPPz"
      },
      "source": [
        "# Importing the Dependencies\n",
        "# <font color = 'blue'> Importando as bibliotecas\n",
        "***"
      ]
    },
    {
      "cell_type": "code",
      "metadata": {
        "id": "etvfGwV6vA5k"
      },
      "source": [
        "import pandas as pd\n",
        "import numpy as np\n",
        "import matplotlib.pyplot as plt\n",
        "import seaborn as sns\n",
        "from  sklearn.linear_model import LinearRegression\n",
        "from sklearn.model_selection  import  train_test_split\n",
        "from sklearn.linear_model import  Lasso\n",
        "from sklearn import metrics"
      ],
      "execution_count": null,
      "outputs": []
    },
    {
      "cell_type": "markdown",
      "metadata": {
        "id": "IEHY77ORyPvL"
      },
      "source": [
        "#  Data Collection and Data Analisys\n",
        "# <font color='blue'> Coleta e Análise dos Dados\n",
        "\n",
        "- loading the data from csv file to  pandas DataFrame\n",
        "-<font color='blue'> Carregando o dados em csv para o pandas DataFrame\n",
        "***"
      ]
    },
    {
      "cell_type": "code",
      "metadata": {
        "id": "cOV_q58atojF"
      },
      "source": [
        "car_data= pd.read_csv('/content/car data.csv')"
      ],
      "execution_count": null,
      "outputs": []
    },
    {
      "cell_type": "code",
      "metadata": {
        "id": "t1RTtytit1Tf"
      },
      "source": [
        "print(car_data)"
      ],
      "execution_count": null,
      "outputs": []
    },
    {
      "cell_type": "code",
      "metadata": {
        "id": "0Xj2ws6j0oCd"
      },
      "source": [
        "car_data.head()"
      ],
      "execution_count": null,
      "outputs": []
    },
    {
      "cell_type": "markdown",
      "metadata": {
        "id": "9FmKIu3754SO"
      },
      "source": [
        "- Checking the number of rows and columns in the data frame\n",
        "-<font color='blue'> Checando numero de linhas e colunas do data frame\n",
        "***"
      ]
    },
    {
      "cell_type": "code",
      "metadata": {
        "id": "05HRVspM6KaA"
      },
      "source": [
        "car_data.shape"
      ],
      "execution_count": null,
      "outputs": []
    },
    {
      "cell_type": "markdown",
      "metadata": {
        "id": "c-hM6y436Z96"
      },
      "source": [
        "- Getting some information about the dataset\n",
        "-<font color='blue'> Pegando algumas informações dos dados\n",
        "***"
      ]
    },
    {
      "cell_type": "code",
      "metadata": {
        "id": "JciMs-fmktQ2"
      },
      "source": [
        "car_data.info()"
      ],
      "execution_count": null,
      "outputs": []
    },
    {
      "cell_type": "markdown",
      "metadata": {
        "id": "eLZw6yIilIlH"
      },
      "source": [
        "- Checking the number of missing values \n",
        "-<font color='blue'> Checando o numero de valores faltantes\n",
        "***"
      ]
    },
    {
      "cell_type": "code",
      "metadata": {
        "id": "dfFb0VSnll5l"
      },
      "source": [
        "car_data.isnull().sum()"
      ],
      "execution_count": null,
      "outputs": []
    },
    {
      "cell_type": "markdown",
      "metadata": {
        "id": "y5VWa9Qu0BWC"
      },
      "source": [
        "- Checking the distribution of categorical data\n",
        "-<font color='blue'> Checando a distribuição dos dados categoricos\n",
        "***"
      ]
    },
    {
      "cell_type": "code",
      "metadata": {
        "id": "5nUpP8NDmLbt"
      },
      "source": [
        "print(car_data.Fuel_Type.value_counts())\n",
        "print(car_data.Seller_Type.value_counts())\n",
        "print(car_data.Transmission.value_counts())"
      ],
      "execution_count": null,
      "outputs": []
    },
    {
      "cell_type": "markdown",
      "metadata": {
        "id": "7qT_4mWr7Ims"
      },
      "source": [
        "- Encoding the Categorical Data\n",
        "- <font color='blue'> Codificação de dados categoricos\n"
      ]
    },
    {
      "cell_type": "code",
      "metadata": {
        "id": "K7WAk6zf7k96"
      },
      "source": [
        "# encoding \"Fuel_Type\"Column\n",
        "car_data.replace({'Fuel_Type' :{'Petrol':0,'Diesel':1,'CNG':2}},inplace=True)\n",
        "\n",
        "# encoding \"Seller_Type\"Column\n",
        "car_data.replace({'Seller_Type' :{'Dealer':0,'Individual':1}},inplace=True)\n",
        "\n",
        "# encoding \"Transmission\"Column\n",
        "car_data.replace({'Transmission' :{'Manual':0,'Automatic':1}},inplace=True)"
      ],
      "execution_count": null,
      "outputs": []
    },
    {
      "cell_type": "code",
      "metadata": {
        "id": "mruuhlhypFNI"
      },
      "source": [
        "car_data.head()"
      ],
      "execution_count": null,
      "outputs": []
    },
    {
      "cell_type": "markdown",
      "metadata": {
        "id": "3wGnbaFd-8cc"
      },
      "source": [
        "- Splitting the data into Training data and Test data\n",
        "- <font color='blue'> Divisão do dados en treino e teste\n",
        "***"
      ]
    },
    {
      "cell_type": "code",
      "metadata": {
        "id": "ggyV_Wq8_Y9G"
      },
      "source": [
        "X = car_data.drop(['Car_Name', 'Selling_Price'], axis=1)\n",
        "\n",
        "Y = car_data['Selling_Price']"
      ],
      "execution_count": null,
      "outputs": []
    },
    {
      "cell_type": "code",
      "metadata": {
        "id": "PHmOoY1T8RQB"
      },
      "source": [
        "print(X)\n",
        "print(Y)"
      ],
      "execution_count": null,
      "outputs": []
    },
    {
      "cell_type": "markdown",
      "metadata": {
        "id": "_aoEpxfoCOFN"
      },
      "source": [
        "- Splitting the data target\n",
        "- <font color='blue'> \n",
        "***\n"
      ]
    },
    {
      "cell_type": "code",
      "metadata": {
        "id": "5_oU_uxHWhdk"
      },
      "source": [
        "X_train, X_test, Y_train, Y_test = train_test_split(X,Y, test_size=0.1, random_state=2)"
      ],
      "execution_count": null,
      "outputs": []
    },
    {
      "cell_type": "markdown",
      "metadata": {
        "id": "-9Z-_NJ64OWK"
      },
      "source": [
        "- Model Training --> Linear Regression\n",
        "-<font color='blue'>Modelo de Treino --> Linear regression \n",
        "***"
      ]
    },
    {
      "cell_type": "markdown",
      "metadata": {
        "id": "JfRRB0DK229a"
      },
      "source": [
        "# Construindo o Modelo \n",
        "- Training the Model\n",
        "-<font color='blue'> Treinando o Modelo\n",
        "***"
      ]
    },
    {
      "cell_type": "markdown",
      "metadata": {
        "id": "ibrGVXcj5DpT"
      },
      "source": [
        "- Loading the Model\n",
        "- <font color='blue'>Carregando o Modelo"
      ]
    },
    {
      "cell_type": "code",
      "metadata": {
        "id": "lYA99SPw4I7H"
      },
      "source": [
        "lin_reg_model = LinearRegression()"
      ],
      "execution_count": null,
      "outputs": []
    },
    {
      "cell_type": "code",
      "metadata": {
        "id": "tN-ixIOUv5AF"
      },
      "source": [
        "lin_reg_model.fit(X_train, Y_train)"
      ],
      "execution_count": null,
      "outputs": []
    },
    {
      "cell_type": "markdown",
      "metadata": {
        "id": "OL7s2UAwoswE"
      },
      "source": [
        "# Avaliação do Modelo"
      ]
    },
    {
      "cell_type": "markdown",
      "metadata": {
        "id": "g9FNFE3b52XJ"
      },
      "source": [
        "- Model Evaluation\n",
        "-<font color='blue'>Avaliação do Modelo\n",
        "\n",
        "- Accuracy on training data\n",
        "- <font color = 'blue'>Precisão dos dados de treino\n",
        "*** "
      ]
    },
    {
      "cell_type": "code",
      "metadata": {
        "id": "xXlmhQYG5CK6"
      },
      "source": [
        "train_data_prediction = lin_reg_model.predict(X_train)\n",
        "print(train_data_prediction)"
      ],
      "execution_count": null,
      "outputs": []
    },
    {
      "cell_type": "markdown",
      "metadata": {
        "id": "4iJIbx488RDS"
      },
      "source": [
        "- R squared error\n",
        "- <font color = 'blue'>R erro quadratico\n",
        "***"
      ]
    },
    {
      "cell_type": "code",
      "metadata": {
        "id": "wG00VKr9KHky"
      },
      "source": [
        "error_score = metrics.r2_score(Y_train, train_data_prediction)\n",
        "print(' R squared Error : ', error_score)\n"
      ],
      "execution_count": null,
      "outputs": []
    },
    {
      "cell_type": "markdown",
      "metadata": {
        "id": "XGdpvhJuRNEx"
      },
      "source": [
        "- Visualizing the actual Prices and predicted prices\n",
        "- <font color = 'blue'>Visualização dos preços reais e dos preços previstos\n",
        "***"
      ]
    },
    {
      "cell_type": "code",
      "metadata": {
        "id": "LagTLdDc8euN"
      },
      "source": [
        "plt.scatter(Y_train, train_data_prediction)\n",
        "plt.xlabel( 'Actual Prices/Preço Atual')\n",
        "plt.ylabel('Predicted Prices / Preço Previsto')\n",
        "plt.title('Actual prices vs Predicted Price')\n",
        "plt.show()\n"
      ],
      "execution_count": null,
      "outputs": []
    },
    {
      "cell_type": "code",
      "metadata": {
        "id": "7NRRYidZQvH5"
      },
      "source": [
        "test_data_prediction = lin_reg_model.predict(X_test)"
      ],
      "execution_count": null,
      "outputs": []
    },
    {
      "cell_type": "code",
      "metadata": {
        "id": "sRImIv5gzi0v"
      },
      "source": [
        "error_score = metrics.r2_score(Y_test, test_data_prediction)\n",
        "print(\" R squared Error : \", error_score)"
      ],
      "execution_count": null,
      "outputs": []
    },
    {
      "cell_type": "code",
      "metadata": {
        "id": "iXq7Td4Nz_sS"
      },
      "source": [
        "plt.scatter(Y_test, test_data_prediction)\n",
        "plt.xlabel( 'Actual Prices/Preço Atual')\n",
        "plt.ylabel('Predicted Prices / Preço Previsto')\n",
        "plt.title('Actual prices vs Predicted Price')\n",
        "plt.show()"
      ],
      "execution_count": null,
      "outputs": []
    },
    {
      "cell_type": "markdown",
      "metadata": {
        "id": "dleohu4Q07WU"
      },
      "source": [
        "# Lasso Regression"
      ]
    },
    {
      "cell_type": "code",
      "metadata": {
        "id": "Z1pbo-n31Cwd"
      },
      "source": [
        "lass_reg_model = Lasso()"
      ],
      "execution_count": null,
      "outputs": []
    },
    {
      "cell_type": "code",
      "metadata": {
        "id": "zdoWNxrc1JbV"
      },
      "source": [
        "lass_reg_model.fit(X_train, Y_train)"
      ],
      "execution_count": null,
      "outputs": []
    },
    {
      "cell_type": "code",
      "metadata": {
        "id": "IZP2tFB91Tjq"
      },
      "source": [
        "train_data_prediction = lass_reg_model.predict(X_train)\n",
        "print(train_data_prediction)"
      ],
      "execution_count": null,
      "outputs": []
    },
    {
      "cell_type": "code",
      "metadata": {
        "id": "2UrFj0152oOa"
      },
      "source": [
        "train_data_prediction= lass_reg_model.predict(X_train)"
      ],
      "execution_count": null,
      "outputs": []
    },
    {
      "cell_type": "code",
      "metadata": {
        "id": "79Le6xwT1bOl"
      },
      "source": [
        "error_score = metrics.r2_score(Y_test, test_data_prediction)\n",
        "print(' R squared Error : ', error_score)"
      ],
      "execution_count": null,
      "outputs": []
    },
    {
      "cell_type": "code",
      "metadata": {
        "id": "6uwwjrkt3LAD"
      },
      "source": [
        "plt.scatter(Y_test, test_data_prediction)\n",
        "plt.xlabel( 'Actual Prices/Preço Atual')\n",
        "plt.ylabel('Predicted Prices / Preço Previsto')\n",
        "plt.title('Actual prices vs Predicted Price')\n",
        "plt.show()"
      ],
      "execution_count": null,
      "outputs": []
    },
    {
      "cell_type": "markdown",
      "metadata": {
        "id": "BnKKJIrxBnPw"
      },
      "source": [
        "# The end\n",
        "***"
      ]
    },
    {
      "cell_type": "code",
      "metadata": {
        "id": "oVBDhY6OBlGH"
      },
      "source": [
        ""
      ],
      "execution_count": null,
      "outputs": []
    }
  ]
}